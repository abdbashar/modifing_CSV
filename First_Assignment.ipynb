{
 "metadata": {
  "language_info": {
   "codemirror_mode": {
    "name": "ipython",
    "version": 3
   },
   "file_extension": ".py",
   "mimetype": "text/x-python",
   "name": "python",
   "nbconvert_exporter": "python",
   "pygments_lexer": "ipython3",
   "version": "3.8.5-final"
  },
  "orig_nbformat": 2,
  "kernelspec": {
   "name": "python3",
   "display_name": "Python 3",
   "language": "python"
  }
 },
 "nbformat": 4,
 "nbformat_minor": 2,
 "cells": [
  {
   "cell_type": "code",
   "execution_count": 2,
   "metadata": {},
   "outputs": [],
   "source": [
    "import pandas as pd  \n"
   ]
  },
  {
   "cell_type": "code",
   "execution_count": 5,
   "metadata": {},
   "outputs": [
    {
     "output_type": "execute_result",
     "data": {
      "text/plain": [
       "   First Name  Gender    Salary  Bonus %             Team\n",
       "0     Douglas    Male   97308.0    6.945        Marketing\n",
       "1      Thomas    Male   61933.0    4.170           Others\n",
       "2       Maria  Female  130590.0   11.858          Finance\n",
       "3       Jerry    Male  138705.0    9.340          Finance\n",
       "4       Larry    Male  101004.0    1.389  Client Services\n",
       "..        ...     ...       ...      ...              ...\n",
       "94      Harry    Male  130620.0    7.030            Legal\n",
       "95    Heather  Female   43026.0   14.166  Client Services\n",
       "96    Cynthia  Female  142321.0    1.737          Finance\n",
       "97      Laura  Female  140371.0   10.620        Marketing\n",
       "98       Tina  Female  100705.0   16.961        Marketing\n",
       "\n",
       "[99 rows x 5 columns]"
      ],
      "text/html": "<div>\n<style scoped>\n    .dataframe tbody tr th:only-of-type {\n        vertical-align: middle;\n    }\n\n    .dataframe tbody tr th {\n        vertical-align: top;\n    }\n\n    .dataframe thead th {\n        text-align: right;\n    }\n</style>\n<table border=\"1\" class=\"dataframe\">\n  <thead>\n    <tr style=\"text-align: right;\">\n      <th></th>\n      <th>First Name</th>\n      <th>Gender</th>\n      <th>Salary</th>\n      <th>Bonus %</th>\n      <th>Team</th>\n    </tr>\n  </thead>\n  <tbody>\n    <tr>\n      <th>0</th>\n      <td>Douglas</td>\n      <td>Male</td>\n      <td>97308.0</td>\n      <td>6.945</td>\n      <td>Marketing</td>\n    </tr>\n    <tr>\n      <th>1</th>\n      <td>Thomas</td>\n      <td>Male</td>\n      <td>61933.0</td>\n      <td>4.170</td>\n      <td>Others</td>\n    </tr>\n    <tr>\n      <th>2</th>\n      <td>Maria</td>\n      <td>Female</td>\n      <td>130590.0</td>\n      <td>11.858</td>\n      <td>Finance</td>\n    </tr>\n    <tr>\n      <th>3</th>\n      <td>Jerry</td>\n      <td>Male</td>\n      <td>138705.0</td>\n      <td>9.340</td>\n      <td>Finance</td>\n    </tr>\n    <tr>\n      <th>4</th>\n      <td>Larry</td>\n      <td>Male</td>\n      <td>101004.0</td>\n      <td>1.389</td>\n      <td>Client Services</td>\n    </tr>\n    <tr>\n      <th>...</th>\n      <td>...</td>\n      <td>...</td>\n      <td>...</td>\n      <td>...</td>\n      <td>...</td>\n    </tr>\n    <tr>\n      <th>94</th>\n      <td>Harry</td>\n      <td>Male</td>\n      <td>130620.0</td>\n      <td>7.030</td>\n      <td>Legal</td>\n    </tr>\n    <tr>\n      <th>95</th>\n      <td>Heather</td>\n      <td>Female</td>\n      <td>43026.0</td>\n      <td>14.166</td>\n      <td>Client Services</td>\n    </tr>\n    <tr>\n      <th>96</th>\n      <td>Cynthia</td>\n      <td>Female</td>\n      <td>142321.0</td>\n      <td>1.737</td>\n      <td>Finance</td>\n    </tr>\n    <tr>\n      <th>97</th>\n      <td>Laura</td>\n      <td>Female</td>\n      <td>140371.0</td>\n      <td>10.620</td>\n      <td>Marketing</td>\n    </tr>\n    <tr>\n      <th>98</th>\n      <td>Tina</td>\n      <td>Female</td>\n      <td>100705.0</td>\n      <td>16.961</td>\n      <td>Marketing</td>\n    </tr>\n  </tbody>\n</table>\n<p>99 rows × 5 columns</p>\n</div>"
     },
     "metadata": {},
     "execution_count": 5
    }
   ],
   "source": [
    "data = pd.read_csv ('employees.csv')  #read csv file by giving the specified file path\n",
    "df = pd.DataFrame(data, columns= ['First Name','Gender','Salary','Bonus %','Team'])#import csv file into dataframe\n",
    "df"
   ]
  },
  {
   "cell_type": "code",
   "execution_count": 6,
   "metadata": {},
   "outputs": [
    {
     "output_type": "stream",
     "name": "stdout",
     "text": [
      "    Gender    Salary  Bonus %             Team\n0     Male   97308.0    6.945        Marketing\n1     Male   61933.0    4.170           Others\n2   Female  130590.0   11.858          Finance\n3     Male  138705.0    9.340          Finance\n4     Male  101004.0    1.389  Client Services\n..     ...       ...      ...              ...\n94    Male  130620.0    7.030            Legal\n95  Female   43026.0   14.166  Client Services\n96  Female  142321.0    1.737          Finance\n97  Female  140371.0   10.620        Marketing\n98  Female  100705.0   16.961        Marketing\n\n[99 rows x 4 columns]\n"
     ]
    }
   ],
   "source": [
    "\n",
    "data = pd.read_csv ('employees.csv')   \n",
    "df = pd.DataFrame(data, columns= ['First Name','Gender','Salary','Bonus %','Team'])\n",
    "print(df.drop(['First Name'],axis=1)) #df.drop(['First Name']:- to delete the specified column from dataframe \n"
   ]
  },
  {
   "cell_type": "code",
   "execution_count": 51,
   "metadata": {},
   "outputs": [
    {
     "output_type": "execute_result",
     "data": {
      "text/plain": [
       "First Name    0\n",
       "Gender        0\n",
       "Salary        7\n",
       "Bonus %       5\n",
       "Team          0\n",
       "dtype: int64"
      ]
     },
     "metadata": {},
     "execution_count": 51
    }
   ],
   "source": [
    "# it would be btter to check how many missing values in the dataframes before filling the missing value  \n",
    "df.isnull().sum() #.isnull() :- return True if the cell has missing value and return False if the cell has a value\n",
    "                  #.isnull().sum() :- return the number of missing values in each column of dataframe"
   ]
  },
  {
   "cell_type": "code",
   "execution_count": 104,
   "metadata": {},
   "outputs": [
    {
     "output_type": "stream",
     "name": "stdout",
     "text": [
      "First Name    0\nGender        0\nSalary        0\nBonus %       0\nTeam          0\ndtype: int64\n"
     ]
    }
   ],
   "source": [
    "df[['Salary','Bonus %']]=df[['Salary','Bonus %']].fillna((df[['Salary','Bonus %']].mean()))\n",
    "#fillna() :- used to fill the missing vlaue and in this line it fill the missing value of the specified dataframes columns with mean()\n",
    "print(df.isnull().sum())"
   ]
  },
  {
   "cell_type": "code",
   "execution_count": 12,
   "metadata": {},
   "outputs": [
    {
     "output_type": "execute_result",
     "data": {
      "text/plain": [
       "0     1\n",
       "1     1\n",
       "2     0\n",
       "3     1\n",
       "4     1\n",
       "     ..\n",
       "94    1\n",
       "95    0\n",
       "96    0\n",
       "97    0\n",
       "98    0\n",
       "Name: Gender, Length: 99, dtype: int64"
      ]
     },
     "metadata": {},
     "execution_count": 12
    }
   ],
   "source": [
    "gender = {'Male': 1,'Female': 0} #intializing dictionary\n",
    "df['Gender'].map(gender)#mapping dataframe column with dictionary and fill the cell of the specified dataframe column with dictionary value"
   ]
  },
  {
   "cell_type": "code",
   "execution_count": 9,
   "metadata": {},
   "outputs": [
    {
     "output_type": "execute_result",
     "data": {
      "text/plain": [
       "0     1\n",
       "1     2\n",
       "2     3\n",
       "3     3\n",
       "4     4\n",
       "     ..\n",
       "94    5\n",
       "95    4\n",
       "96    3\n",
       "97    1\n",
       "98    1\n",
       "Name: Team, Length: 99, dtype: int64"
      ]
     },
     "metadata": {},
     "execution_count": 9
    }
   ],
   "source": [
    " \n",
    "team = {'Marketing': 1,'Others': 2, 'Finance':3,'Client Services':4,'Legal':5,'Product':6,'Engineering':7,'Business Development':8,'Human Resources':9,'Sales':10,'Distribution':11} \n",
    "df['Team'].map(team)"
   ]
  }
 ]
}